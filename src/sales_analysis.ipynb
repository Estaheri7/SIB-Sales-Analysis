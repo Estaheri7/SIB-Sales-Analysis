{
 "cells": [
  {
   "cell_type": "markdown",
   "source": [
    "# Import necessary libraries"
   ],
   "metadata": {
    "collapsed": false
   }
  },
  {
   "cell_type": "code",
   "execution_count": 3,
   "metadata": {
    "collapsed": true,
    "ExecuteTime": {
     "end_time": "2024-04-07T15:33:12.263254400Z",
     "start_time": "2024-04-07T15:33:12.251775200Z"
    }
   },
   "outputs": [],
   "source": [
    "import numpy as np\n",
    "import pandas as pd\n",
    "import matplotlib.pyplot as plt"
   ]
  },
  {
   "cell_type": "markdown",
   "source": [
    "### Read data using pandas"
   ],
   "metadata": {
    "collapsed": false
   }
  },
  {
   "cell_type": "code",
   "execution_count": 3,
   "outputs": [
    {
     "data": {
      "text/plain": "  InvoiceNumber ProductCode                          ProductName  Quantity  \\\n0        489434       85048  15CM CHRISTMAS GLASS BALL 20 LIGHTS        12   \n1        489434      79323P                   PINK CHERRY LIGHTS        12   \n2        489434      79323W                  WHITE CHERRY LIGHTS        12   \n3        489434       22041         RECORD FRAME 7\" SINGLE SIZE         48   \n4        489434       21232       STRAWBERRY CERAMIC TRINKET BOX        24   \n\n          InvoiceDate  UnitPrice  CustomerId         Country  \n0 2009-12-01 07:45:00       6.95     13085.0  United Kingdom  \n1 2009-12-01 07:45:00       6.75     13085.0  United Kingdom  \n2 2009-12-01 07:45:00       6.75     13085.0  United Kingdom  \n3 2009-12-01 07:45:00       2.10     13085.0  United Kingdom  \n4 2009-12-01 07:45:00       1.25     13085.0  United Kingdom  ",
      "text/html": "<div>\n<style scoped>\n    .dataframe tbody tr th:only-of-type {\n        vertical-align: middle;\n    }\n\n    .dataframe tbody tr th {\n        vertical-align: top;\n    }\n\n    .dataframe thead th {\n        text-align: right;\n    }\n</style>\n<table border=\"1\" class=\"dataframe\">\n  <thead>\n    <tr style=\"text-align: right;\">\n      <th></th>\n      <th>InvoiceNumber</th>\n      <th>ProductCode</th>\n      <th>ProductName</th>\n      <th>Quantity</th>\n      <th>InvoiceDate</th>\n      <th>UnitPrice</th>\n      <th>CustomerId</th>\n      <th>Country</th>\n    </tr>\n  </thead>\n  <tbody>\n    <tr>\n      <th>0</th>\n      <td>489434</td>\n      <td>85048</td>\n      <td>15CM CHRISTMAS GLASS BALL 20 LIGHTS</td>\n      <td>12</td>\n      <td>2009-12-01 07:45:00</td>\n      <td>6.95</td>\n      <td>13085.0</td>\n      <td>United Kingdom</td>\n    </tr>\n    <tr>\n      <th>1</th>\n      <td>489434</td>\n      <td>79323P</td>\n      <td>PINK CHERRY LIGHTS</td>\n      <td>12</td>\n      <td>2009-12-01 07:45:00</td>\n      <td>6.75</td>\n      <td>13085.0</td>\n      <td>United Kingdom</td>\n    </tr>\n    <tr>\n      <th>2</th>\n      <td>489434</td>\n      <td>79323W</td>\n      <td>WHITE CHERRY LIGHTS</td>\n      <td>12</td>\n      <td>2009-12-01 07:45:00</td>\n      <td>6.75</td>\n      <td>13085.0</td>\n      <td>United Kingdom</td>\n    </tr>\n    <tr>\n      <th>3</th>\n      <td>489434</td>\n      <td>22041</td>\n      <td>RECORD FRAME 7\" SINGLE SIZE</td>\n      <td>48</td>\n      <td>2009-12-01 07:45:00</td>\n      <td>2.10</td>\n      <td>13085.0</td>\n      <td>United Kingdom</td>\n    </tr>\n    <tr>\n      <th>4</th>\n      <td>489434</td>\n      <td>21232</td>\n      <td>STRAWBERRY CERAMIC TRINKET BOX</td>\n      <td>24</td>\n      <td>2009-12-01 07:45:00</td>\n      <td>1.25</td>\n      <td>13085.0</td>\n      <td>United Kingdom</td>\n    </tr>\n  </tbody>\n</table>\n</div>"
     },
     "execution_count": 3,
     "metadata": {},
     "output_type": "execute_result"
    }
   ],
   "source": [
    "# openpyxl must be installed.\n",
    "df = pd.read_excel(\"sales.xlsx\")\n",
    "df.head()"
   ],
   "metadata": {
    "collapsed": false,
    "ExecuteTime": {
     "end_time": "2024-04-04T23:58:04.711725500Z",
     "start_time": "2024-04-04T23:57:24.253029600Z"
    }
   }
  },
  {
   "cell_type": "markdown",
   "source": [
    "### shape and columns"
   ],
   "metadata": {
    "collapsed": false
   }
  },
  {
   "cell_type": "code",
   "execution_count": 8,
   "outputs": [
    {
     "data": {
      "text/plain": "(525461, 8)"
     },
     "execution_count": 8,
     "metadata": {},
     "output_type": "execute_result"
    }
   ],
   "source": [
    "df.shape"
   ],
   "metadata": {
    "collapsed": false,
    "ExecuteTime": {
     "end_time": "2024-04-03T10:46:30.686072700Z",
     "start_time": "2024-04-03T10:46:30.676777700Z"
    }
   }
  },
  {
   "cell_type": "code",
   "execution_count": 5,
   "outputs": [
    {
     "data": {
      "text/plain": "Index(['InvoiceNumber', 'ProductCode', 'ProductName', 'Quantity',\n       'InvoiceDate', 'UnitPrice', 'CustomerId', 'Country'],\n      dtype='object')"
     },
     "execution_count": 5,
     "metadata": {},
     "output_type": "execute_result"
    }
   ],
   "source": [
    "df.columns"
   ],
   "metadata": {
    "collapsed": false,
    "ExecuteTime": {
     "end_time": "2024-04-03T10:46:24.901987500Z",
     "start_time": "2024-04-03T10:46:24.880158100Z"
    }
   }
  },
  {
   "cell_type": "markdown",
   "source": [
    "<h2 align=left style=\"line-height:200%;font-family:vazir;color:#0099cc\">\n",
    "<font face=\"vazir\" color=\"green\">\n",
    "Preprocessing data\n",
    "</font>\n",
    "</h2>"
   ],
   "metadata": {
    "collapsed": false
   }
  },
  {
   "cell_type": "markdown",
   "source": [
    "<p dir=rtl style=\"direction: rtl;text-align: left;line-height:200%;font-family:vazir;font-size:medium\">\n",
    "<font face=\"vazir\" size=3>\n",
    "Removing rows which is not including <code>CustomerId</code>\n",
    "</font>\n",
    "</p>"
   ],
   "metadata": {
    "collapsed": false
   }
  },
  {
   "cell_type": "code",
   "execution_count": 4,
   "outputs": [
    {
     "data": {
      "text/plain": "InvoiceNumber    0\nProductCode      0\nProductName      0\nQuantity         0\nInvoiceDate      0\nUnitPrice        0\nCustomerId       0\nCountry          0\ndtype: int64"
     },
     "execution_count": 4,
     "metadata": {},
     "output_type": "execute_result"
    }
   ],
   "source": [
    "df_no_missing_customer = df.copy()\n",
    "df_no_missing_customer.dropna(subset=[\"CustomerId\"], inplace=True)\n",
    "df_no_missing_customer.isna().sum()"
   ],
   "metadata": {
    "collapsed": false,
    "ExecuteTime": {
     "end_time": "2024-04-04T23:58:09.277022900Z",
     "start_time": "2024-04-04T23:58:09.044264300Z"
    }
   }
  },
  {
   "cell_type": "markdown",
   "source": [
    "<p dir=rtl style=\"direction: rtl;text-align: left;line-height:200%;font-family:vazir;font-size:medium\">\n",
    "<font face=\"vazir\" size=3>\n",
    "Delete duplicate data\n",
    "</font>\n",
    "</p>"
   ],
   "metadata": {
    "collapsed": false
   }
  },
  {
   "cell_type": "code",
   "execution_count": 5,
   "outputs": [],
   "source": [
    "df_no_duplicate = df_no_missing_customer.copy()\n",
    "df_no_duplicate.drop_duplicates(inplace=True)"
   ],
   "metadata": {
    "collapsed": false,
    "ExecuteTime": {
     "end_time": "2024-04-04T23:58:11.657594200Z",
     "start_time": "2024-04-04T23:58:11.314018900Z"
    }
   }
  },
  {
   "cell_type": "markdown",
   "source": [
    "<p dir=rtl style=\"direction: rtl;text-align: left;line-height:200%;font-family:vazir;font-size:medium\">\n",
    "<font face=\"vazir\" size=3>\n",
    "Delete rows which have 0 or negative value for <code>UnitPrice</code>\n",
    "</font>\n",
    "</p>"
   ],
   "metadata": {
    "collapsed": false
   }
  },
  {
   "cell_type": "code",
   "execution_count": 6,
   "outputs": [
    {
     "data": {
      "text/plain": "  InvoiceNumber ProductCode                          ProductName  Quantity  \\\n0        489434       85048  15CM CHRISTMAS GLASS BALL 20 LIGHTS        12   \n1        489434      79323P                   PINK CHERRY LIGHTS        12   \n2        489434      79323W                  WHITE CHERRY LIGHTS        12   \n3        489434       22041         RECORD FRAME 7\" SINGLE SIZE         48   \n4        489434       21232       STRAWBERRY CERAMIC TRINKET BOX        24   \n\n          InvoiceDate  UnitPrice  CustomerId         Country  \n0 2009-12-01 07:45:00       6.95     13085.0  United Kingdom  \n1 2009-12-01 07:45:00       6.75     13085.0  United Kingdom  \n2 2009-12-01 07:45:00       6.75     13085.0  United Kingdom  \n3 2009-12-01 07:45:00       2.10     13085.0  United Kingdom  \n4 2009-12-01 07:45:00       1.25     13085.0  United Kingdom  ",
      "text/html": "<div>\n<style scoped>\n    .dataframe tbody tr th:only-of-type {\n        vertical-align: middle;\n    }\n\n    .dataframe tbody tr th {\n        vertical-align: top;\n    }\n\n    .dataframe thead th {\n        text-align: right;\n    }\n</style>\n<table border=\"1\" class=\"dataframe\">\n  <thead>\n    <tr style=\"text-align: right;\">\n      <th></th>\n      <th>InvoiceNumber</th>\n      <th>ProductCode</th>\n      <th>ProductName</th>\n      <th>Quantity</th>\n      <th>InvoiceDate</th>\n      <th>UnitPrice</th>\n      <th>CustomerId</th>\n      <th>Country</th>\n    </tr>\n  </thead>\n  <tbody>\n    <tr>\n      <th>0</th>\n      <td>489434</td>\n      <td>85048</td>\n      <td>15CM CHRISTMAS GLASS BALL 20 LIGHTS</td>\n      <td>12</td>\n      <td>2009-12-01 07:45:00</td>\n      <td>6.95</td>\n      <td>13085.0</td>\n      <td>United Kingdom</td>\n    </tr>\n    <tr>\n      <th>1</th>\n      <td>489434</td>\n      <td>79323P</td>\n      <td>PINK CHERRY LIGHTS</td>\n      <td>12</td>\n      <td>2009-12-01 07:45:00</td>\n      <td>6.75</td>\n      <td>13085.0</td>\n      <td>United Kingdom</td>\n    </tr>\n    <tr>\n      <th>2</th>\n      <td>489434</td>\n      <td>79323W</td>\n      <td>WHITE CHERRY LIGHTS</td>\n      <td>12</td>\n      <td>2009-12-01 07:45:00</td>\n      <td>6.75</td>\n      <td>13085.0</td>\n      <td>United Kingdom</td>\n    </tr>\n    <tr>\n      <th>3</th>\n      <td>489434</td>\n      <td>22041</td>\n      <td>RECORD FRAME 7\" SINGLE SIZE</td>\n      <td>48</td>\n      <td>2009-12-01 07:45:00</td>\n      <td>2.10</td>\n      <td>13085.0</td>\n      <td>United Kingdom</td>\n    </tr>\n    <tr>\n      <th>4</th>\n      <td>489434</td>\n      <td>21232</td>\n      <td>STRAWBERRY CERAMIC TRINKET BOX</td>\n      <td>24</td>\n      <td>2009-12-01 07:45:00</td>\n      <td>1.25</td>\n      <td>13085.0</td>\n      <td>United Kingdom</td>\n    </tr>\n  </tbody>\n</table>\n</div>"
     },
     "execution_count": 6,
     "metadata": {},
     "output_type": "execute_result"
    }
   ],
   "source": [
    "df_no_missing_price = df_no_duplicate.copy()\n",
    "df_no_missing_price = df_no_missing_price[df_no_missing_price[\"UnitPrice\"] > 0]\n",
    "df_no_missing_price.head()"
   ],
   "metadata": {
    "collapsed": false,
    "ExecuteTime": {
     "end_time": "2024-04-04T23:58:13.734893100Z",
     "start_time": "2024-04-04T23:58:13.656258Z"
    }
   }
  },
  {
   "cell_type": "markdown",
   "source": [],
   "metadata": {
    "collapsed": false
   }
  },
  {
   "cell_type": "markdown",
   "source": [
    "<p dir=rtl style=\"direction: rtl;text-align: left;line-height:200%;font-family:vazir;font-size:medium\">\n",
    "<font face=\"vazir\" size=3>\n",
    "Percentage of canceled orders\n",
    "</font>\n",
    "</p>"
   ],
   "metadata": {
    "collapsed": false
   }
  },
  {
   "cell_type": "code",
   "execution_count": 8,
   "outputs": [
    {
     "data": {
      "text/plain": "19"
     },
     "execution_count": 8,
     "metadata": {},
     "output_type": "execute_result"
    }
   ],
   "source": [
    "canceled_orders_count = df_no_missing_price[df_no_missing_price[\"InvoiceNumber\"].str.startswith(\"C\", na=False)][\"InvoiceNumber\"].nunique()\n",
    "all_orders = df_no_missing_price[\"InvoiceNumber\"].nunique()\n",
    "percentage_canceled_orders = round(canceled_orders_count / all_orders * 100)\n",
    "percentage_canceled_orders"
   ],
   "metadata": {
    "collapsed": false,
    "ExecuteTime": {
     "end_time": "2024-04-04T23:58:20.203722700Z",
     "start_time": "2024-04-04T23:58:19.827787800Z"
    }
   }
  },
  {
   "cell_type": "markdown",
   "source": [
    "<p dir=rtl style=\"direction: rtl;text-align: left;line-height:200%;font-family:vazir;font-size:medium\">\n",
    "<font face=\"vazir\" size=3>\n",
    "Top 5 customers with must canceled order.\n",
    "</font>\n",
    "</p>"
   ],
   "metadata": {
    "collapsed": false
   }
  },
  {
   "cell_type": "code",
   "execution_count": 21,
   "outputs": [
    {
     "data": {
      "text/plain": "     CustomerId  count\n845       14911     65\n720       14527     39\n963       15311     37\n599       14156     36\n1693      17841     35",
      "text/html": "<div>\n<style scoped>\n    .dataframe tbody tr th:only-of-type {\n        vertical-align: middle;\n    }\n\n    .dataframe tbody tr th {\n        vertical-align: top;\n    }\n\n    .dataframe thead th {\n        text-align: right;\n    }\n</style>\n<table border=\"1\" class=\"dataframe\">\n  <thead>\n    <tr style=\"text-align: right;\">\n      <th></th>\n      <th>CustomerId</th>\n      <th>count</th>\n    </tr>\n  </thead>\n  <tbody>\n    <tr>\n      <th>845</th>\n      <td>14911</td>\n      <td>65</td>\n    </tr>\n    <tr>\n      <th>720</th>\n      <td>14527</td>\n      <td>39</td>\n    </tr>\n    <tr>\n      <th>963</th>\n      <td>15311</td>\n      <td>37</td>\n    </tr>\n    <tr>\n      <th>599</th>\n      <td>14156</td>\n      <td>36</td>\n    </tr>\n    <tr>\n      <th>1693</th>\n      <td>17841</td>\n      <td>35</td>\n    </tr>\n  </tbody>\n</table>\n</div>"
     },
     "execution_count": 21,
     "metadata": {},
     "output_type": "execute_result"
    }
   ],
   "source": [
    "df_temp = df_no_missing_price.copy()\n",
    "df_temp[\"CustomerId\"] = df_temp[\"CustomerId\"].apply(lambda x : str(int(x)))\n",
    "\n",
    "group_canceled_customer_id = df_temp[df_temp[\"InvoiceNumber\"].str.startswith(\"C\", na=False)].groupby(\"CustomerId\")\n",
    "\n",
    "top_5_canceled_customers = group_canceled_customer_id[\"InvoiceNumber\"].nunique().reset_index(name= \"count\").sort_values(by=[\"count\"], ascending=False).head(5)\n",
    "top_5_canceled_customers"
   ],
   "metadata": {
    "collapsed": false,
    "ExecuteTime": {
     "end_time": "2024-04-05T00:08:45.425918700Z",
     "start_time": "2024-04-05T00:08:44.898348100Z"
    }
   }
  },
  {
   "cell_type": "markdown",
   "source": [
    "<p dir=rtl style=\"direction: rtl;text-align: left;line-height:200%;font-family:vazir;font-size:medium\">\n",
    "<font face=\"vazir\" size=3>\n",
    "Remove canceled orders\n",
    "</font>\n",
    "</p>"
   ],
   "metadata": {
    "collapsed": false
   }
  },
  {
   "cell_type": "code",
   "execution_count": 23,
   "outputs": [
    {
     "data": {
      "text/plain": "  InvoiceNumber ProductCode                          ProductName  Quantity  \\\n0        489434       85048  15CM CHRISTMAS GLASS BALL 20 LIGHTS        12   \n1        489434      79323P                   PINK CHERRY LIGHTS        12   \n2        489434      79323W                  WHITE CHERRY LIGHTS        12   \n3        489434       22041         RECORD FRAME 7\" SINGLE SIZE         48   \n4        489434       21232       STRAWBERRY CERAMIC TRINKET BOX        24   \n\n          InvoiceDate  UnitPrice  CustomerId         Country  \n0 2009-12-01 07:45:00       6.95     13085.0  United Kingdom  \n1 2009-12-01 07:45:00       6.75     13085.0  United Kingdom  \n2 2009-12-01 07:45:00       6.75     13085.0  United Kingdom  \n3 2009-12-01 07:45:00       2.10     13085.0  United Kingdom  \n4 2009-12-01 07:45:00       1.25     13085.0  United Kingdom  ",
      "text/html": "<div>\n<style scoped>\n    .dataframe tbody tr th:only-of-type {\n        vertical-align: middle;\n    }\n\n    .dataframe tbody tr th {\n        vertical-align: top;\n    }\n\n    .dataframe thead th {\n        text-align: right;\n    }\n</style>\n<table border=\"1\" class=\"dataframe\">\n  <thead>\n    <tr style=\"text-align: right;\">\n      <th></th>\n      <th>InvoiceNumber</th>\n      <th>ProductCode</th>\n      <th>ProductName</th>\n      <th>Quantity</th>\n      <th>InvoiceDate</th>\n      <th>UnitPrice</th>\n      <th>CustomerId</th>\n      <th>Country</th>\n    </tr>\n  </thead>\n  <tbody>\n    <tr>\n      <th>0</th>\n      <td>489434</td>\n      <td>85048</td>\n      <td>15CM CHRISTMAS GLASS BALL 20 LIGHTS</td>\n      <td>12</td>\n      <td>2009-12-01 07:45:00</td>\n      <td>6.95</td>\n      <td>13085.0</td>\n      <td>United Kingdom</td>\n    </tr>\n    <tr>\n      <th>1</th>\n      <td>489434</td>\n      <td>79323P</td>\n      <td>PINK CHERRY LIGHTS</td>\n      <td>12</td>\n      <td>2009-12-01 07:45:00</td>\n      <td>6.75</td>\n      <td>13085.0</td>\n      <td>United Kingdom</td>\n    </tr>\n    <tr>\n      <th>2</th>\n      <td>489434</td>\n      <td>79323W</td>\n      <td>WHITE CHERRY LIGHTS</td>\n      <td>12</td>\n      <td>2009-12-01 07:45:00</td>\n      <td>6.75</td>\n      <td>13085.0</td>\n      <td>United Kingdom</td>\n    </tr>\n    <tr>\n      <th>3</th>\n      <td>489434</td>\n      <td>22041</td>\n      <td>RECORD FRAME 7\" SINGLE SIZE</td>\n      <td>48</td>\n      <td>2009-12-01 07:45:00</td>\n      <td>2.10</td>\n      <td>13085.0</td>\n      <td>United Kingdom</td>\n    </tr>\n    <tr>\n      <th>4</th>\n      <td>489434</td>\n      <td>21232</td>\n      <td>STRAWBERRY CERAMIC TRINKET BOX</td>\n      <td>24</td>\n      <td>2009-12-01 07:45:00</td>\n      <td>1.25</td>\n      <td>13085.0</td>\n      <td>United Kingdom</td>\n    </tr>\n  </tbody>\n</table>\n</div>"
     },
     "execution_count": 23,
     "metadata": {},
     "output_type": "execute_result"
    }
   ],
   "source": [
    "df_no_canceled_invoice = df_no_missing_price.copy()\n",
    "\n",
    "df_no_canceled_invoice = df_no_canceled_invoice[~df_no_canceled_invoice[\"InvoiceNumber\"].str.startswith(\"C\", na=False)]\n",
    "\n",
    "df_no_canceled_invoice.head()"
   ],
   "metadata": {
    "collapsed": false,
    "ExecuteTime": {
     "end_time": "2024-04-05T00:11:40.690238100Z",
     "start_time": "2024-04-05T00:11:40.281731Z"
    }
   }
  },
  {
   "cell_type": "markdown",
   "source": [
    "### Save preprocessed data to new file"
   ],
   "metadata": {
    "collapsed": false
   }
  },
  {
   "cell_type": "code",
   "execution_count": 24,
   "outputs": [],
   "source": [
    "df_no_canceled_invoice.to_csv(\"preprocessed_sales.csv\", index=False)"
   ],
   "metadata": {
    "collapsed": false,
    "ExecuteTime": {
     "end_time": "2024-04-05T00:13:32.430407200Z",
     "start_time": "2024-04-05T00:13:30.160470500Z"
    }
   }
  },
  {
   "cell_type": "markdown",
   "source": [
    "# Read preprocessed data using pandas"
   ],
   "metadata": {
    "collapsed": false
   }
  },
  {
   "cell_type": "code",
   "execution_count": 5,
   "outputs": [
    {
     "data": {
      "text/plain": "   InvoiceNumber ProductCode                          ProductName  Quantity  \\\n0         489434       85048  15CM CHRISTMAS GLASS BALL 20 LIGHTS        12   \n1         489434      79323P                   PINK CHERRY LIGHTS        12   \n2         489434      79323W                  WHITE CHERRY LIGHTS        12   \n3         489434       22041         RECORD FRAME 7\" SINGLE SIZE         48   \n4         489434       21232       STRAWBERRY CERAMIC TRINKET BOX        24   \n\n           InvoiceDate  UnitPrice  CustomerId         Country  \n0  2009-12-01 07:45:00       6.95     13085.0  United Kingdom  \n1  2009-12-01 07:45:00       6.75     13085.0  United Kingdom  \n2  2009-12-01 07:45:00       6.75     13085.0  United Kingdom  \n3  2009-12-01 07:45:00       2.10     13085.0  United Kingdom  \n4  2009-12-01 07:45:00       1.25     13085.0  United Kingdom  ",
      "text/html": "<div>\n<style scoped>\n    .dataframe tbody tr th:only-of-type {\n        vertical-align: middle;\n    }\n\n    .dataframe tbody tr th {\n        vertical-align: top;\n    }\n\n    .dataframe thead th {\n        text-align: right;\n    }\n</style>\n<table border=\"1\" class=\"dataframe\">\n  <thead>\n    <tr style=\"text-align: right;\">\n      <th></th>\n      <th>InvoiceNumber</th>\n      <th>ProductCode</th>\n      <th>ProductName</th>\n      <th>Quantity</th>\n      <th>InvoiceDate</th>\n      <th>UnitPrice</th>\n      <th>CustomerId</th>\n      <th>Country</th>\n    </tr>\n  </thead>\n  <tbody>\n    <tr>\n      <th>0</th>\n      <td>489434</td>\n      <td>85048</td>\n      <td>15CM CHRISTMAS GLASS BALL 20 LIGHTS</td>\n      <td>12</td>\n      <td>2009-12-01 07:45:00</td>\n      <td>6.95</td>\n      <td>13085.0</td>\n      <td>United Kingdom</td>\n    </tr>\n    <tr>\n      <th>1</th>\n      <td>489434</td>\n      <td>79323P</td>\n      <td>PINK CHERRY LIGHTS</td>\n      <td>12</td>\n      <td>2009-12-01 07:45:00</td>\n      <td>6.75</td>\n      <td>13085.0</td>\n      <td>United Kingdom</td>\n    </tr>\n    <tr>\n      <th>2</th>\n      <td>489434</td>\n      <td>79323W</td>\n      <td>WHITE CHERRY LIGHTS</td>\n      <td>12</td>\n      <td>2009-12-01 07:45:00</td>\n      <td>6.75</td>\n      <td>13085.0</td>\n      <td>United Kingdom</td>\n    </tr>\n    <tr>\n      <th>3</th>\n      <td>489434</td>\n      <td>22041</td>\n      <td>RECORD FRAME 7\" SINGLE SIZE</td>\n      <td>48</td>\n      <td>2009-12-01 07:45:00</td>\n      <td>2.10</td>\n      <td>13085.0</td>\n      <td>United Kingdom</td>\n    </tr>\n    <tr>\n      <th>4</th>\n      <td>489434</td>\n      <td>21232</td>\n      <td>STRAWBERRY CERAMIC TRINKET BOX</td>\n      <td>24</td>\n      <td>2009-12-01 07:45:00</td>\n      <td>1.25</td>\n      <td>13085.0</td>\n      <td>United Kingdom</td>\n    </tr>\n  </tbody>\n</table>\n</div>"
     },
     "execution_count": 5,
     "metadata": {},
     "output_type": "execute_result"
    }
   ],
   "source": [
    "df = pd.read_csv(\"preprocessed_sales.csv\")\n",
    "df.head()"
   ],
   "metadata": {
    "collapsed": false,
    "ExecuteTime": {
     "end_time": "2024-04-07T15:33:24.509110700Z",
     "start_time": "2024-04-07T15:33:24.020416900Z"
    }
   }
  },
  {
   "cell_type": "markdown",
   "source": [
    "## Exploring given dataset"
   ],
   "metadata": {
    "collapsed": false
   }
  },
  {
   "cell_type": "code",
   "execution_count": 6,
   "outputs": [
    {
     "name": "stdout",
     "output_type": "stream",
     "text": [
      "<class 'pandas.core.frame.DataFrame'>\n",
      "RangeIndex: 400916 entries, 0 to 400915\n",
      "Data columns (total 8 columns):\n",
      " #   Column         Non-Null Count   Dtype  \n",
      "---  ------         --------------   -----  \n",
      " 0   InvoiceNumber  400916 non-null  int64  \n",
      " 1   ProductCode    400916 non-null  object \n",
      " 2   ProductName    400916 non-null  object \n",
      " 3   Quantity       400916 non-null  int64  \n",
      " 4   InvoiceDate    400916 non-null  object \n",
      " 5   UnitPrice      400916 non-null  float64\n",
      " 6   CustomerId     400916 non-null  float64\n",
      " 7   Country        400916 non-null  object \n",
      "dtypes: float64(2), int64(2), object(4)\n",
      "memory usage: 24.5+ MB\n"
     ]
    }
   ],
   "source": [
    "df.info()"
   ],
   "metadata": {
    "collapsed": false,
    "ExecuteTime": {
     "end_time": "2024-04-07T15:33:26.765791800Z",
     "start_time": "2024-04-07T15:33:26.684680700Z"
    }
   }
  },
  {
   "cell_type": "markdown",
   "source": [
    "### Number of remaining orders."
   ],
   "metadata": {
    "collapsed": false
   }
  },
  {
   "cell_type": "code",
   "execution_count": 7,
   "outputs": [
    {
     "data": {
      "text/plain": "19213"
     },
     "execution_count": 7,
     "metadata": {},
     "output_type": "execute_result"
    }
   ],
   "source": [
    "number_of_orders = df[\"InvoiceNumber\"].nunique()\n",
    "number_of_orders"
   ],
   "metadata": {
    "collapsed": false,
    "ExecuteTime": {
     "end_time": "2024-04-07T15:35:06.227373500Z",
     "start_time": "2024-04-07T15:35:06.213806800Z"
    }
   }
  },
  {
   "cell_type": "markdown",
   "source": [
    "<p dir=rtl style=\"direction: rtl;text-align: left;line-height:200%;font-family:vazir;font-size:medium\">\n",
    "<font face=\"vazir\" size=3>\n",
    "Convert <code>InvoiceDate</code> type to datetime using pandas\n",
    "</font>\n",
    "</p>"
   ],
   "metadata": {
    "collapsed": false
   }
  },
  {
   "cell_type": "code",
   "execution_count": 8,
   "outputs": [],
   "source": [
    "df[\"InvoiceDate\"] = pd.to_datetime(df[\"InvoiceDate\"])"
   ],
   "metadata": {
    "collapsed": false,
    "ExecuteTime": {
     "end_time": "2024-04-07T15:39:36.661233100Z",
     "start_time": "2024-04-07T15:39:36.603202300Z"
    }
   }
  },
  {
   "cell_type": "markdown",
   "source": [
    "<p dir=rtl style=\"direction: rtl;text-align: left;line-height:200%;font-family:vazir;font-size:medium\">\n",
    "<font face=\"vazir\" size=3>\n",
    "Finding the time range of orders.\n",
    "</font>\n",
    "</p>"
   ],
   "metadata": {
    "collapsed": false
   }
  },
  {
   "cell_type": "code",
   "execution_count": 10,
   "outputs": [
    {
     "name": "stdout",
     "output_type": "stream",
     "text": [
      "(2009-12-01, 2010-12-09)\n"
     ]
    }
   ],
   "source": [
    "orders_range = (df[\"InvoiceDate\"].min(), df[\"InvoiceDate\"].max())\n",
    "min_range = orders_range[0].strftime(\"%Y-%m-%d\")\n",
    "max_range = orders_range[1].strftime(\"%Y-%m-%d\")\n",
    "print(f\"({min_range}, {max_range})\")"
   ],
   "metadata": {
    "collapsed": false,
    "ExecuteTime": {
     "end_time": "2024-04-07T15:43:58.781117900Z",
     "start_time": "2024-04-07T15:43:58.769161200Z"
    }
   }
  },
  {
   "cell_type": "markdown",
   "source": [
    "## Plot of multiple identical invoices sent on each day."
   ],
   "metadata": {
    "collapsed": false
   }
  },
  {
   "cell_type": "code",
   "execution_count": 16,
   "outputs": [
    {
     "data": {
      "text/plain": "<Figure size 1500x600 with 1 Axes>",
      "image/png": "[encoded data removed]"
     },
     "metadata": {},
     "output_type": "display_data"
    }
   ],
   "source": [
    "fig, ax = plt.subplots()\n",
    "fig.set_size_inches(15, 6)\n",
    "ax.set_title(\"Number of orders for different Days\", color=\"lightseagreen\")\n",
    "df[\"DayOfWeek\"] = df[\"InvoiceDate\"].dt.strftime(\"%A\")\n",
    "group_by_day = df.groupby(\"DayOfWeek\")\n",
    "day_order = [\"Monday\", \"Tuesday\", \"Wednesday\", \"Thursday\", \"Friday\", \"Saturday\", \"Sunday\"]\n",
    "group_by_day[\"InvoiceNumber\"].nunique().loc[day_order].plot(kind=\"bar\", ax=ax, color=\"lime\")\n",
    "plt.xlabel(\"Day\", color=\"lightseagreen\")\n",
    "plt.ylabel(\"Number of orders\", color=\"lightseagreen\")\n",
    "plt.xticks(rotation=45);"
   ],
   "metadata": {
    "collapsed": false,
    "ExecuteTime": {
     "end_time": "2024-04-07T16:00:41.987183900Z",
     "start_time": "2024-04-07T16:00:39.676687Z"
    }
   }
  },
  {
   "cell_type": "markdown",
   "source": [
    "## Bar chart of the total sales of each month of each year"
   ],
   "metadata": {
    "collapsed": false
   }
  },
  {
   "cell_type": "code",
   "execution_count": 30,
   "outputs": [
    {
     "data": {
      "text/plain": "<Figure size 1500x600 with 1 Axes>",
      "image/png": "[encoded data removed]"
     },
     "metadata": {},
     "output_type": "display_data"
    }
   ],
   "source": [
    "fig, ax = plt.subplots()\n",
    "fig.set_size_inches(15, 6)\n",
    "ax.set_title(\"Total sales of each month of each year\", color=\"orange\")\n",
    "df[\"Month-Year\"] = df[\"InvoiceDate\"].dt.strftime(\"%b-%Y\")\n",
    "df[\"totalPrice\"] = df[\"UnitPrice\"] * df[\"Quantity\"]\n",
    "\n",
    "# Group data by Month-Year and calculate totalPrice for each group\n",
    "group_by_month_year = df.groupby(\"Month-Year\")[\"totalPrice\"].sum().reset_index()\n",
    "# Sort by datetime\n",
    "group_by_month_year[\"Month-Year\"] = pd.to_datetime(group_by_month_year[\"Month-Year\"], format=\"%b-%Y\")\n",
    "group_by_month_year = group_by_month_year.sort_values(by=\"Month-Year\")\n",
    "# Change column format back.\n",
    "group_by_month_year[\"Month-Year\"] = group_by_month_year[\"Month-Year\"].dt.strftime(\"%b-%Y\")\n",
    "\n",
    "# Create plot\n",
    "group_by_month_year.plot(kind=\"bar\", x=\"Month-Year\", y=\"totalPrice\", ax=ax, color=\"gray\")\n",
    "plt.xlabel(\"Month-Year\", color=\"orange\", size=15)\n",
    "plt.ylabel(\"Total Price\", color=\"orange\", size=15)\n",
    "plt.xticks(rotation=45, color=\"orange\")\n",
    "plt.yticks(color=\"orange\");"
   ],
   "metadata": {
    "collapsed": false,
    "ExecuteTime": {
     "end_time": "2024-04-07T16:20:55.517528800Z",
     "start_time": "2024-04-07T16:20:52.423598Z"
    }
   }
  }
 ],
 "metadata": {
  "kernelspec": {
   "name": "queraenv",
   "language": "python",
   "display_name": "QueraEnv"
  },
  "language_info": {
   "codemirror_mode": {
    "name": "ipython",
    "version": 2
   },
   "file_extension": ".py",
   "mimetype": "text/x-python",
   "name": "python",
   "nbconvert_exporter": "python",
   "pygments_lexer": "ipython2",
   "version": "2.7.6"
  }
 },
 "nbformat": 4,
 "nbformat_minor": 0
}
